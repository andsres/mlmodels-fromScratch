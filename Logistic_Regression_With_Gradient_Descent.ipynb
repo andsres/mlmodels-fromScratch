{
 "cells": [
  {
   "cell_type": "markdown",
   "metadata": {},
   "source": [
    "# Logistic Regression using gradient descent"
   ]
  },
  {
   "cell_type": "markdown",
   "metadata": {},
   "source": [
    "Inspired by the Coursera Course <i>Neural Networks and Deep Learning</i> by deeplearning.ai"
   ]
  },
  {
   "cell_type": "code",
   "execution_count": 1,
   "metadata": {},
   "outputs": [],
   "source": [
    "import numpy as np\n",
    "import matplotlib.pyplot as plt\n",
    "from sklearn import datasets\n",
    "from sklearn.model_selection import train_test_split"
   ]
  },
  {
   "cell_type": "markdown",
   "metadata": {},
   "source": [
    "## Data collection & analysis"
   ]
  },
  {
   "cell_type": "markdown",
   "metadata": {},
   "source": [
    "For this example the MNIST dataset will be used. A binary classification will be trained to detect whether a handwritten digit is a 5 or not"
   ]
  },
  {
   "cell_type": "code",
   "execution_count": 2,
   "metadata": {},
   "outputs": [],
   "source": [
    "digits = datasets.load_digits()"
   ]
  },
  {
   "cell_type": "code",
   "execution_count": 3,
   "metadata": {},
   "outputs": [
    {
     "name": "stdout",
     "output_type": "stream",
     "text": [
      "Image shows a handwritten 4\n"
     ]
    },
    {
     "data": {
      "image/png": "[encoded data removed]",
      "text/plain": [
       "<Figure size 432x288 with 1 Axes>"
      ]
     },
     "metadata": {
      "needs_background": "light"
     },
     "output_type": "display_data"
    }
   ],
   "source": [
    "# Show one handwritten digit\n",
    "test_idx = 111\n",
    "plt.imshow(digits.images[test_idx], cmap=plt.cm.gray_r) #use grey color scale\n",
    "print('Image shows a handwritten {}'.format(digits.target[test_idx]))"
   ]
  },
  {
   "cell_type": "code",
   "execution_count": 4,
   "metadata": {},
   "outputs": [
    {
     "name": "stdout",
     "output_type": "stream",
     "text": [
      "The dataset contains 1797 images, each with a size of 8 by 8 pixels\n"
     ]
    }
   ],
   "source": [
    "# Check sizes\n",
    "digits.images.shape\n",
    "digits.target.shape\n",
    "print('The dataset contains {} images, each with a size of {} by {} pixels'.format(digits.images.shape[0],digits.images.shape[1],digits.images.shape[2]))"
   ]
  },
  {
   "cell_type": "code",
   "execution_count": 5,
   "metadata": {},
   "outputs": [
    {
     "name": "stdout",
     "output_type": "stream",
     "text": [
      "Shape of input (1797, 8, 8)\n",
      "Shape of target (1797,)\n"
     ]
    }
   ],
   "source": [
    "#Check dimensions of images and targets\n",
    "print('Shape of input {}'.format(digits.images.shape))\n",
    "print('Shape of target {}'.format(digits.target.shape))"
   ]
  },
  {
   "cell_type": "code",
   "execution_count": 6,
   "metadata": {},
   "outputs": [
    {
     "name": "stdout",
     "output_type": "stream",
     "text": [
      "Minimum Value = 0.0\n",
      "Maximum Value = 16.0\n"
     ]
    }
   ],
   "source": [
    "# Check image statistics\n",
    "print('Minimum Value = {}'.format(np.min(digits.images)))\n",
    "print('Maximum Value = {}'.format(np.max(digits.images)))"
   ]
  },
  {
   "cell_type": "code",
   "execution_count": 7,
   "metadata": {},
   "outputs": [
    {
     "data": {
      "text/plain": [
       "<BarContainer object of 10 artists>"
      ]
     },
     "execution_count": 7,
     "metadata": {},
     "output_type": "execute_result"
    },
    {
     "data": {
      "image/png": "[encoded data removed]",
      "text/plain": [
       "<Figure size 720x360 with 1 Axes>"
      ]
     },
     "metadata": {
      "needs_background": "light"
     },
     "output_type": "display_data"
    }
   ],
   "source": [
    "# Check target distribution\n",
    "plt.figure(figsize=(10,5))\n",
    "digits_count = np.array([sum(digits.target==i) for i in digits.target_names])\n",
    "plt.bar(digits.target_names,digits_count,tick_label=digits.target_names)"
   ]
  },
  {
   "cell_type": "code",
   "execution_count": 8,
   "metadata": {},
   "outputs": [
    {
     "name": "stdout",
     "output_type": "stream",
     "text": [
      "0:178\n",
      "1:182\n",
      "2:177\n",
      "3:183\n",
      "4:181\n",
      "5:182\n",
      "6:181\n",
      "7:179\n",
      "8:174\n",
      "9:180\n"
     ]
    }
   ],
   "source": [
    "for i in range(10):\n",
    "    print('{}:{}'.format(digits.target_names[i],digits_count[i]))"
   ]
  },
  {
   "cell_type": "code",
   "execution_count": 9,
   "metadata": {},
   "outputs": [
    {
     "data": {
      "text/plain": [
       "<BarContainer object of 2 artists>"
      ]
     },
     "execution_count": 9,
     "metadata": {},
     "output_type": "execute_result"
    },
    {
     "data": {
      "image/png": "[encoded data removed]",
      "text/plain": [
       "<Figure size 720x360 with 1 Axes>"
      ]
     },
     "metadata": {
      "needs_background": "light"
     },
     "output_type": "display_data"
    }
   ],
   "source": [
    "# Show distribution of binary classification 5 vs. not 5 (one-vs-rest)\n",
    "plt.figure(figsize=(10,5))\n",
    "binary_targets = [\"5\",\"not 5\"]\n",
    "binary_count = np.array(digits_count[5])\n",
    "binary_count = np.append(binary_count,(sum([digits_count[i] for i in range(10) if i != 5])))\n",
    "plt.bar(binary_targets,binary_count,tick_label=binary_targets)"
   ]
  },
  {
   "cell_type": "code",
   "execution_count": 10,
   "metadata": {},
   "outputs": [
    {
     "name": "stdout",
     "output_type": "stream",
     "text": [
      "5: 182\n",
      "not 5: 1615\n",
      "Factor 1 to 9\n"
     ]
    }
   ],
   "source": [
    "for i in range(2):\n",
    "     print('{}: {}'.format(binary_targets[i],binary_count[i]))\n",
    "print(\"Factor 1 to {}\".format(int(round(binary_count[1]/binary_count[0],0))))"
   ]
  },
  {
   "cell_type": "markdown",
   "metadata": {},
   "source": [
    "## Data preparation"
   ]
  },
  {
   "cell_type": "code",
   "execution_count": 11,
   "metadata": {},
   "outputs": [],
   "source": [
    "#Upscale data -> From 1:9 to approx. 1:1\n",
    "upscaled_images = digits.images\n",
    "upscaled_target = digits.target\n",
    "for i in range(8):\n",
    "    upscaled_images = np.concatenate((upscaled_images,digits.images[digits.target==5]))\n",
    "    upscaled_target = np.concatenate((upscaled_target,digits.target[digits.target==5]))"
   ]
  },
  {
   "cell_type": "code",
   "execution_count": 12,
   "metadata": {},
   "outputs": [
    {
     "data": {
      "text/plain": [
       "((3253, 8, 8), (3253,))"
      ]
     },
     "execution_count": 12,
     "metadata": {},
     "output_type": "execute_result"
    }
   ],
   "source": [
    "upscaled_images.shape, upscaled_target.shape"
   ]
  },
  {
   "cell_type": "code",
   "execution_count": 13,
   "metadata": {},
   "outputs": [
    {
     "data": {
      "text/plain": [
       "<BarContainer object of 2 artists>"
      ]
     },
     "execution_count": 13,
     "metadata": {},
     "output_type": "execute_result"
    },
    {
     "data": {
      "image/png": "[encoded data removed]",
      "text/plain": [
       "<Figure size 720x360 with 1 Axes>"
      ]
     },
     "metadata": {
      "needs_background": "light"
     },
     "output_type": "display_data"
    }
   ],
   "source": [
    "# Show distribution of binary classification 5 vs. not 5 (one-vs-rest)\n",
    "plt.figure(figsize=(10,5))\n",
    "binary_targets = [\"5\",\"not 5\"]\n",
    "binary_count = np.array(np.sum(upscaled_target==5))\n",
    "binary_count = np.append(binary_count,(sum([1 for i in upscaled_target if i != 5])))\n",
    "plt.bar(binary_targets,binary_count,tick_label=binary_targets)"
   ]
  },
  {
   "cell_type": "code",
   "execution_count": 14,
   "metadata": {},
   "outputs": [
    {
     "name": "stdout",
     "output_type": "stream",
     "text": [
      "5: 1638\n",
      "not 5: 1615\n",
      "Factor 1 to 1\n"
     ]
    }
   ],
   "source": [
    "for i in range(2):\n",
    "     print('{}: {}'.format(binary_targets[i],binary_count[i]))\n",
    "print(\"Factor 1 to {}\".format(int(round(binary_count[1]/binary_count[0],0))))"
   ]
  },
  {
   "cell_type": "code",
   "execution_count": 15,
   "metadata": {},
   "outputs": [],
   "source": [
    "images = upscaled_images\n",
    "targets = upscaled_target"
   ]
  },
  {
   "cell_type": "code",
   "execution_count": 16,
   "metadata": {},
   "outputs": [],
   "source": [
    "# Split data into test and training set\n",
    "images_train, images_test, targets_train, targets_test = train_test_split(images, targets, test_size=0.2, random_state=42)"
   ]
  },
  {
   "cell_type": "code",
   "execution_count": 17,
   "metadata": {},
   "outputs": [
    {
     "name": "stdout",
     "output_type": "stream",
     "text": [
      "Number of train examples 2602\n",
      "Number of test example 651\n"
     ]
    }
   ],
   "source": [
    "print('Number of train examples {}'.format(images_train.shape[0]))\n",
    "print('Number of test example {}'.format(images_test.shape[0]))"
   ]
  },
  {
   "cell_type": "code",
   "execution_count": 18,
   "metadata": {},
   "outputs": [
    {
     "name": "stdout",
     "output_type": "stream",
     "text": [
      "Shape of X_train: (64, 2602)\n",
      "Shape of X_test: (64, 651)\n"
     ]
    }
   ],
   "source": [
    "# Reshape inputs to be of size (image pixels width * pixels height, number of examples)\n",
    "# So that each pixel is converted into a feature\n",
    "X_train = images_train.reshape(images_train.shape[0],-1).T\n",
    "X_test = images_test.reshape(images_test.shape[0],-1).T\n",
    "\n",
    "print('Shape of X_train: {}'.format(X_train.shape))\n",
    "print('Shape of X_test: {}'.format(X_test.shape))"
   ]
  },
  {
   "cell_type": "code",
   "execution_count": 19,
   "metadata": {},
   "outputs": [
    {
     "name": "stdout",
     "output_type": "stream",
     "text": [
      "Shape of Y_train: (1, 2602)\n",
      "Shape of Y_test: (1, 651)\n"
     ]
    }
   ],
   "source": [
    "#Reshape targets to be of size (number of target dimensions, number of examples)\n",
    "Y_train = targets_train.reshape(1,-1)\n",
    "Y_test = targets_test.reshape(1,-1)\n",
    "\n",
    "print('Shape of Y_train: {}'.format(Y_train.shape))\n",
    "print('Shape of Y_test: {}'.format(Y_test.shape))"
   ]
  },
  {
   "cell_type": "code",
   "execution_count": 20,
   "metadata": {},
   "outputs": [],
   "source": [
    "# Normalize data by dividing with max pixel value\n",
    "X_train = X_train / 16\n",
    "X_test = X_test / 16"
   ]
  },
  {
   "cell_type": "code",
   "execution_count": 21,
   "metadata": {},
   "outputs": [
    {
     "data": {
      "text/plain": [
       "(0.0, 1.0)"
      ]
     },
     "execution_count": 21,
     "metadata": {},
     "output_type": "execute_result"
    }
   ],
   "source": [
    "# Sanity check\n",
    "np.min(X_train), np.max(X_train)"
   ]
  },
  {
   "cell_type": "code",
   "execution_count": 22,
   "metadata": {},
   "outputs": [],
   "source": [
    "# Convert Y values into binary classification\n",
    "Y_train = np.array([1 if i == 5 else 0 for i in Y_train.ravel() ]).reshape(1,-1)\n",
    "Y_test = np.array([1 if i == 5 else 0 for i in Y_test.ravel() ]).reshape(1,-1)"
   ]
  },
  {
   "cell_type": "markdown",
   "metadata": {},
   "source": [
    "## Build Model"
   ]
  },
  {
   "cell_type": "markdown",
   "metadata": {},
   "source": [
    "### Define Functions"
   ]
  },
  {
   "cell_type": "code",
   "execution_count": 23,
   "metadata": {},
   "outputs": [],
   "source": [
    "# Sigmoid Activation Function\n",
    "def sigmoid(z):\n",
    "    return 1/(1+np.exp(-z))"
   ]
  },
  {
   "cell_type": "code",
   "execution_count": 24,
   "metadata": {},
   "outputs": [],
   "source": [
    "# Calculate regression function w^T*X+b\n",
    "def forwardpropagation(X,w,b):\n",
    "    return sigmoid(np.dot(w.T,X)+b)"
   ]
  },
  {
   "cell_type": "code",
   "execution_count": 25,
   "metadata": {},
   "outputs": [],
   "source": [
    "# Do backpropagation during gradient descent to update the parameters w and b\n",
    "def backpropagation(X,Y,A,w,b, learning_rate):\n",
    "    m = X.shape[1]\n",
    "    # Compute Cost\n",
    "    cost = -(np.sum(Y*np.log(A)+(1-Y)*np.log(1-A)))/m\n",
    "    \n",
    "    #Compute gradients\n",
    "    dw = np.dot(X,(A-Y).T)/m\n",
    "    db = np.sum(A-Y)/m\n",
    "    \n",
    "    #Update parameters\n",
    "    w -= learning_rate * dw\n",
    "    b -= learning_rate * db\n",
    "    \n",
    "    return w,b,cost"
   ]
  },
  {
   "cell_type": "code",
   "execution_count": 26,
   "metadata": {},
   "outputs": [],
   "source": [
    "# Predict binary classification\n",
    "def predict(X,w,b):\n",
    "    return np.array([1 if a > 0.5 else 0 for a in forwardpropagation(X,w,b)[0]]).reshape(1,-1)"
   ]
  },
  {
   "cell_type": "code",
   "execution_count": 27,
   "metadata": {},
   "outputs": [],
   "source": [
    "# Evalute binary classifications using accuracy\n",
    "def evaluate_predictions(Y,Y_Pred):\n",
    "    return np.sum(Y == Y_Pred)/Y.shape[1]"
   ]
  },
  {
   "cell_type": "code",
   "execution_count": 28,
   "metadata": {},
   "outputs": [],
   "source": [
    "class LogisticRegression():\n",
    "    def __init__(self, number_of_dimensions):\n",
    "        # initialize parameters with random values\n",
    "        self.w = np.zeros((number_of_dimensions,1))\n",
    "        self.b = 0\n",
    "    def fit(self,X,Y, learning_rate=0.001, num_iterations=1000, verbose=True):\n",
    "        for i in range(num_iterations):\n",
    "            # Forward Propagation\n",
    "            A = forwardpropagation(X,self.w,self.b)\n",
    "            # Backpropagation\n",
    "            self.w,self.b,cost = backpropagation(X,Y,A,self.w,self.b,learning_rate)\n",
    "            # Print costs for every 100th iteration\n",
    "            if verbose and (i+1) % 100 == 0 or (i+1) == 1:\n",
    "                print ('{}. Iteration. Costs: {}'.format(i+1,cost))\n",
    "    def predict(self,X):\n",
    "        return predict(X,self.w,self.b)"
   ]
  },
  {
   "cell_type": "markdown",
   "metadata": {},
   "source": [
    "## Train Model"
   ]
  },
  {
   "cell_type": "code",
   "execution_count": 29,
   "metadata": {},
   "outputs": [],
   "source": [
    "# Get Model Instance\n",
    "lr_model = LogisticRegression(X_train.shape[0])"
   ]
  },
  {
   "cell_type": "code",
   "execution_count": 30,
   "metadata": {
    "scrolled": true
   },
   "outputs": [
    {
     "name": "stdout",
     "output_type": "stream",
     "text": [
      "1. Iteration. Costs: 0.6931471805599452\n",
      "100. Iteration. Costs: 0.6805428273426605\n",
      "200. Iteration. Costs: 0.6684399044568341\n",
      "300. Iteration. Costs: 0.6568428581249992\n",
      "400. Iteration. Costs: 0.6456758121810265\n",
      "500. Iteration. Costs: 0.634891409435278\n",
      "600. Iteration. Costs: 0.624458336933084\n",
      "700. Iteration. Costs: 0.6143543539968462\n",
      "800. Iteration. Costs: 0.6045624039426262\n",
      "900. Iteration. Costs: 0.5950684490938489\n",
      "1000. Iteration. Costs: 0.5858602668518557\n",
      "1100. Iteration. Costs: 0.5769267807414097\n",
      "1200. Iteration. Costs: 0.5682576886705221\n",
      "1300. Iteration. Costs: 0.559843255922555\n",
      "1400. Iteration. Costs: 0.5516741991640504\n",
      "1500. Iteration. Costs: 0.5437416205148383\n",
      "1600. Iteration. Costs: 0.5360369689741781\n",
      "1700. Iteration. Costs: 0.5285520166491282\n",
      "1800. Iteration. Costs: 0.5212788428737758\n",
      "1900. Iteration. Costs: 0.5142098224395197\n",
      "2000. Iteration. Costs: 0.5073376158912684\n",
      "2100. Iteration. Costs: 0.5006551608024594\n",
      "2200. Iteration. Costs: 0.4941556634684573\n",
      "2300. Iteration. Costs: 0.4878325907451437\n",
      "2400. Iteration. Costs: 0.4816796619141885\n",
      "2500. Iteration. Costs: 0.4756908405379123\n",
      "2600. Iteration. Costs: 0.46986032630780095\n",
      "2700. Iteration. Costs: 0.4641825469099252\n",
      "2800. Iteration. Costs: 0.4586521499378835\n",
      "2900. Iteration. Costs: 0.45326399488505903\n",
      "3000. Iteration. Costs: 0.44801314524603175\n",
      "3100. Iteration. Costs: 0.4428948607536277\n",
      "3200. Iteration. Costs: 0.43790458977420454\n",
      "3300. Iteration. Costs: 0.43303796187987764\n",
      "3400. Iteration. Costs: 0.4282907806126988\n",
      "3500. Iteration. Costs: 0.42365901645243176\n",
      "3600. Iteration. Costs: 0.41913879999657705\n",
      "3700. Iteration. Costs: 0.414726415358657\n",
      "3800. Iteration. Costs: 0.41041829378849537\n",
      "3900. Iteration. Costs: 0.40621100751625855\n",
      "4000. Iteration. Costs: 0.4021012638203603\n",
      "4100. Iteration. Costs: 0.39808589931792343\n",
      "4200. Iteration. Costs: 0.39416187447531414\n",
      "4300. Iteration. Costs: 0.3903262683352987\n",
      "4400. Iteration. Costs: 0.3865762734565761\n",
      "4500. Iteration. Costs: 0.3829091910608087\n",
      "4600. Iteration. Costs: 0.37932242638177177\n",
      "4700. Iteration. Costs: 0.3758134842108603\n",
      "4800. Iteration. Costs: 0.3723799646329117\n",
      "4900. Iteration. Costs: 0.36901955894610494\n",
      "5000. Iteration. Costs: 0.36573004575957974\n",
      "5100. Iteration. Costs: 0.3625092872623527\n",
      "5200. Iteration. Costs: 0.35935522565710776\n",
      "5300. Iteration. Costs: 0.3562658797524677\n",
      "5400. Iteration. Costs: 0.3532393417074311\n",
      "5500. Iteration. Costs: 0.35027377392175746\n",
      "5600. Iteration. Costs: 0.3473674060662102\n",
      "5700. Iteration. Costs: 0.34451853224671314\n",
      "5800. Iteration. Costs: 0.3417255082966345\n",
      "5900. Iteration. Costs: 0.3389867491915824\n",
      "6000. Iteration. Costs: 0.3363007265812776\n",
      "6100. Iteration. Costs: 0.33366596643325075\n",
      "6200. Iteration. Costs: 0.33108104678330136\n",
      "6300. Iteration. Costs: 0.32854459558784405\n",
      "6400. Iteration. Costs: 0.32605528867345646\n",
      "6500. Iteration. Costs: 0.3236118477791323\n",
      "6600. Iteration. Costs: 0.32121303868692797\n",
      "6700. Iteration. Costs: 0.3188576694368707\n",
      "6800. Iteration. Costs: 0.31654458862218066\n",
      "6900. Iteration. Costs: 0.3142726837610252\n",
      "7000. Iteration. Costs: 0.3120408797411988\n",
      "7100. Iteration. Costs: 0.30984813733428146\n",
      "7200. Iteration. Costs: 0.3076934517759892\n",
      "7300. Iteration. Costs: 0.3055758514095799\n",
      "7400. Iteration. Costs: 0.30349439638932796\n",
      "7500. Iteration. Costs: 0.30144817744121966\n",
      "7600. Iteration. Costs: 0.29943631467815635\n",
      "7700. Iteration. Costs: 0.2974579564670853\n",
      "7800. Iteration. Costs: 0.2955122783455996\n",
      "7900. Iteration. Costs: 0.2935984819856674\n",
      "8000. Iteration. Costs: 0.29171579420226673\n",
      "8100. Iteration. Costs: 0.2898634660048066\n",
      "8200. Iteration. Costs: 0.28804077168932407\n",
      "8300. Iteration. Costs: 0.28624700796953867\n",
      "8400. Iteration. Costs: 0.2844814931449461\n",
      "8500. Iteration. Costs: 0.28274356630421765\n",
      "8600. Iteration. Costs: 0.2810325865622599\n",
      "8700. Iteration. Costs: 0.27934793232936894\n",
      "8800. Iteration. Costs: 0.27768900061099033\n",
      "8900. Iteration. Costs: 0.2760552063366697\n",
      "9000. Iteration. Costs: 0.2744459817168488\n",
      "9100. Iteration. Costs: 0.2728607756262268\n",
      "9200. Iteration. Costs: 0.2712990530124702\n",
      "9300. Iteration. Costs: 0.2697602943291149\n",
      "9400. Iteration. Costs: 0.26824399499155976\n",
      "9500. Iteration. Costs: 0.266749664855104\n",
      "9600. Iteration. Costs: 0.26527682771403566\n",
      "9700. Iteration. Costs: 0.26382502082082077\n",
      "9800. Iteration. Costs: 0.262393794424495\n",
      "9900. Iteration. Costs: 0.26098271132739914\n",
      "10000. Iteration. Costs: 0.2595913464594433\n"
     ]
    }
   ],
   "source": [
    "# Fit Model using Training Data\n",
    "lr_model.fit(X_train,Y_train, num_iterations=10000)"
   ]
  },
  {
   "cell_type": "markdown",
   "metadata": {},
   "source": [
    "## Evalute Model"
   ]
  },
  {
   "cell_type": "code",
   "execution_count": 31,
   "metadata": {},
   "outputs": [
    {
     "name": "stdout",
     "output_type": "stream",
     "text": [
      "Accuracy on Training Data: 98.15526518063028%\n",
      "Accuracy on Test Data: 97.84946236559139%\n"
     ]
    }
   ],
   "source": [
    "#Evaluate on training data\n",
    "Y_train_pred = lr_model.predict(X_train)\n",
    "train_accuracy = evaluate_predictions(Y_train,Y_train_pred)\n",
    "\n",
    "# Evaluate on unseen data\n",
    "Y_test_pred = lr_model.predict(X_test)\n",
    "test_accuracy = evaluate_predictions(Y_test,Y_test_pred)\n",
    "\n",
    "print('Accuracy on Training Data: {}%'.format(train_accuracy*100))\n",
    "print('Accuracy on Test Data: {}%'.format(test_accuracy*100))"
   ]
  },
  {
   "cell_type": "markdown",
   "metadata": {},
   "source": [
    "### Analyze wrong predictions"
   ]
  },
  {
   "cell_type": "code",
   "execution_count": 32,
   "metadata": {},
   "outputs": [],
   "source": [
    "# Get wrong predictions indexes\n",
    "wrong_prediction_idx = np.arange(Y_test.shape[1])[np.array((Y_test == Y_test_pred) == False).reshape(-1)]"
   ]
  },
  {
   "cell_type": "code",
   "execution_count": 33,
   "metadata": {},
   "outputs": [
    {
     "data": {
      "text/plain": [
       "array([  6,  27,  43,  50, 198, 245, 266, 286, 356, 380, 453, 479, 530,\n",
       "       580])"
      ]
     },
     "execution_count": 33,
     "metadata": {},
     "output_type": "execute_result"
    }
   ],
   "source": [
    "wrong_prediction_idx"
   ]
  },
  {
   "cell_type": "code",
   "execution_count": 34,
   "metadata": {},
   "outputs": [],
   "source": [
    "# Undo Preprocessing for picture\n",
    "def undo_preprocessing(X, undo_normalization=True, undo_flattening=True):\n",
    "    X_new = X\n",
    "    # Undo normalization\n",
    "    if undo_normalization:\n",
    "        X_new = X_new * 16\n",
    "    \n",
    "    # Undo flattening\n",
    "    if undo_flattening:\n",
    "        X_new = X_new.T.reshape(-1,8,8)\n",
    "    \n",
    "    return X_new"
   ]
  },
  {
   "cell_type": "code",
   "execution_count": 35,
   "metadata": {},
   "outputs": [
    {
     "name": "stdout",
     "output_type": "stream",
     "text": [
      "Predicted as 5\n"
     ]
    },
    {
     "data": {
      "text/plain": [
       "<matplotlib.image.AxesImage at 0x7f8dc0351510>"
      ]
     },
     "execution_count": 35,
     "metadata": {},
     "output_type": "execute_result"
    },
    {
     "data": {
      "image/png": "[encoded data removed]",
      "text/plain": [
       "<Figure size 432x288 with 1 Axes>"
      ]
     },
     "metadata": {
      "needs_background": "light"
     },
     "output_type": "display_data"
    }
   ],
   "source": [
    "# Show prediction with image\n",
    "idx = wrong_prediction_idx[1]\n",
    "if Y_test_pred[0][idx] == 1:\n",
    "    predicted_string = \"5\"\n",
    "else:\n",
    "    predicted_string = \"not 5\"\n",
    "print('Predicted as {}'.format(predicted_string))\n",
    "\n",
    "# Undo normalization\n",
    "# Undo unraveling\n",
    "# Show the handwritten digit\n",
    "plt.imshow(undo_preprocessing(X_test[:,idx])[0], cmap=plt.cm.gray_r) #use grey color scale"
   ]
  }
 ],
 "metadata": {
  "kernelspec": {
   "display_name": "Python 3",
   "language": "python",
   "name": "python3"
  },
  "language_info": {
   "codemirror_mode": {
    "name": "ipython",
    "version": 3
   },
   "file_extension": ".py",
   "mimetype": "text/x-python",
   "name": "python",
   "nbconvert_exporter": "python",
   "pygments_lexer": "ipython3",
   "version": "3.7.4"
  }
 },
 "nbformat": 4,
 "nbformat_minor": 2
}
